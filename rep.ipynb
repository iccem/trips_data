{
 "cells": [
  {
   "cell_type": "code",
   "execution_count": 1,
   "id": "a41db7c9",
   "metadata": {},
   "outputs": [],
   "source": [
    "import pandas as pd\n",
    "import matplotlib as mpl\n",
    "import matplotlib.pyplot as plt"
   ]
  },
  {
   "cell_type": "code",
   "execution_count": 2,
   "id": "4c937739",
   "metadata": {},
   "outputs": [],
   "source": [
    "rep = pd.read_csv('BitFinex/Bitfinex_REPUSD_d.csv', skiprows=1)"
   ]
  },
  {
   "cell_type": "code",
   "execution_count": 7,
   "id": "5ba28bd2",
   "metadata": {},
   "outputs": [],
   "source": [
    "rep.drop('symbol', axis=1, inplace=True)"
   ]
  },
  {
   "cell_type": "code",
   "execution_count": 10,
   "id": "24f9defe",
   "metadata": {},
   "outputs": [
    {
     "data": {
      "text/html": [
       "<div>\n",
       "<style scoped>\n",
       "    .dataframe tbody tr th:only-of-type {\n",
       "        vertical-align: middle;\n",
       "    }\n",
       "\n",
       "    .dataframe tbody tr th {\n",
       "        vertical-align: top;\n",
       "    }\n",
       "\n",
       "    .dataframe thead th {\n",
       "        text-align: right;\n",
       "    }\n",
       "</style>\n",
       "<table border=\"1\" class=\"dataframe\">\n",
       "  <thead>\n",
       "    <tr style=\"text-align: right;\">\n",
       "      <th></th>\n",
       "      <th>open</th>\n",
       "      <th>high</th>\n",
       "      <th>low</th>\n",
       "      <th>close</th>\n",
       "      <th>Volume USD</th>\n",
       "      <th>Volume REP</th>\n",
       "    </tr>\n",
       "  </thead>\n",
       "  <tbody>\n",
       "    <tr>\n",
       "      <th>count</th>\n",
       "      <td>1161.000000</td>\n",
       "      <td>1161.000000</td>\n",
       "      <td>1161.000000</td>\n",
       "      <td>1161.000000</td>\n",
       "      <td>1161.000000</td>\n",
       "      <td>1161.000000</td>\n",
       "    </tr>\n",
       "    <tr>\n",
       "      <th>mean</th>\n",
       "      <td>18.927197</td>\n",
       "      <td>19.901361</td>\n",
       "      <td>18.137011</td>\n",
       "      <td>18.890605</td>\n",
       "      <td>16541.419325</td>\n",
       "      <td>491.420406</td>\n",
       "    </tr>\n",
       "    <tr>\n",
       "      <th>std</th>\n",
       "      <td>10.625021</td>\n",
       "      <td>11.668359</td>\n",
       "      <td>9.870323</td>\n",
       "      <td>10.625941</td>\n",
       "      <td>56770.290164</td>\n",
       "      <td>1353.189679</td>\n",
       "    </tr>\n",
       "    <tr>\n",
       "      <th>min</th>\n",
       "      <td>5.783000</td>\n",
       "      <td>6.001000</td>\n",
       "      <td>5.779000</td>\n",
       "      <td>5.783000</td>\n",
       "      <td>0.000000</td>\n",
       "      <td>0.000000</td>\n",
       "    </tr>\n",
       "    <tr>\n",
       "      <th>25%</th>\n",
       "      <td>11.690000</td>\n",
       "      <td>12.230000</td>\n",
       "      <td>11.230000</td>\n",
       "      <td>11.500000</td>\n",
       "      <td>68.920000</td>\n",
       "      <td>4.973000</td>\n",
       "    </tr>\n",
       "    <tr>\n",
       "      <th>50%</th>\n",
       "      <td>14.990000</td>\n",
       "      <td>15.800000</td>\n",
       "      <td>14.583000</td>\n",
       "      <td>14.930000</td>\n",
       "      <td>742.427923</td>\n",
       "      <td>50.300000</td>\n",
       "    </tr>\n",
       "    <tr>\n",
       "      <th>75%</th>\n",
       "      <td>21.668000</td>\n",
       "      <td>22.580000</td>\n",
       "      <td>20.717000</td>\n",
       "      <td>21.570000</td>\n",
       "      <td>6076.490000</td>\n",
       "      <td>331.200000</td>\n",
       "    </tr>\n",
       "    <tr>\n",
       "      <th>max</th>\n",
       "      <td>56.630000</td>\n",
       "      <td>88.000000</td>\n",
       "      <td>52.500000</td>\n",
       "      <td>56.630000</td>\n",
       "      <td>960620.810000</td>\n",
       "      <td>16024.940000</td>\n",
       "    </tr>\n",
       "  </tbody>\n",
       "</table>\n",
       "</div>"
      ],
      "text/plain": [
       "              open         high          low        close     Volume USD  \\\n",
       "count  1161.000000  1161.000000  1161.000000  1161.000000    1161.000000   \n",
       "mean     18.927197    19.901361    18.137011    18.890605   16541.419325   \n",
       "std      10.625021    11.668359     9.870323    10.625941   56770.290164   \n",
       "min       5.783000     6.001000     5.779000     5.783000       0.000000   \n",
       "25%      11.690000    12.230000    11.230000    11.500000      68.920000   \n",
       "50%      14.990000    15.800000    14.583000    14.930000     742.427923   \n",
       "75%      21.668000    22.580000    20.717000    21.570000    6076.490000   \n",
       "max      56.630000    88.000000    52.500000    56.630000  960620.810000   \n",
       "\n",
       "         Volume REP  \n",
       "count   1161.000000  \n",
       "mean     491.420406  \n",
       "std     1353.189679  \n",
       "min        0.000000  \n",
       "25%        4.973000  \n",
       "50%       50.300000  \n",
       "75%      331.200000  \n",
       "max    16024.940000  "
      ]
     },
     "execution_count": 10,
     "metadata": {},
     "output_type": "execute_result"
    }
   ],
   "source": [
    "rep.describe()"
   ]
  },
  {
   "cell_type": "code",
   "execution_count": null,
   "id": "de1dc27a",
   "metadata": {},
   "outputs": [],
   "source": []
  },
  {
   "cell_type": "code",
   "execution_count": null,
   "id": "f4669a6a",
   "metadata": {},
   "outputs": [],
   "source": []
  },
  {
   "cell_type": "code",
   "execution_count": null,
   "id": "37a37d46",
   "metadata": {},
   "outputs": [],
   "source": []
  },
  {
   "cell_type": "code",
   "execution_count": null,
   "id": "15a24cac",
   "metadata": {},
   "outputs": [],
   "source": []
  },
  {
   "cell_type": "code",
   "execution_count": null,
   "id": "13338ad2",
   "metadata": {},
   "outputs": [],
   "source": []
  },
  {
   "cell_type": "code",
   "execution_count": null,
   "id": "567f6f9f",
   "metadata": {},
   "outputs": [],
   "source": []
  },
  {
   "cell_type": "code",
   "execution_count": null,
   "id": "6f81afa4",
   "metadata": {},
   "outputs": [],
   "source": []
  },
  {
   "cell_type": "code",
   "execution_count": null,
   "id": "bcfe7921",
   "metadata": {},
   "outputs": [],
   "source": []
  },
  {
   "cell_type": "code",
   "execution_count": null,
   "id": "6e70cb66",
   "metadata": {},
   "outputs": [],
   "source": []
  },
  {
   "cell_type": "code",
   "execution_count": null,
   "id": "9cf4e114",
   "metadata": {},
   "outputs": [],
   "source": []
  },
  {
   "cell_type": "code",
   "execution_count": null,
   "id": "2d451353",
   "metadata": {},
   "outputs": [],
   "source": []
  },
  {
   "cell_type": "code",
   "execution_count": null,
   "id": "7ab74d68",
   "metadata": {},
   "outputs": [],
   "source": []
  }
 ],
 "metadata": {
  "kernelspec": {
   "display_name": "Python 3 (ipykernel)",
   "language": "python",
   "name": "python3"
  },
  "language_info": {
   "codemirror_mode": {
    "name": "ipython",
    "version": 3
   },
   "file_extension": ".py",
   "mimetype": "text/x-python",
   "name": "python",
   "nbconvert_exporter": "python",
   "pygments_lexer": "ipython3",
   "version": "3.9.7"
  }
 },
 "nbformat": 4,
 "nbformat_minor": 5
}
